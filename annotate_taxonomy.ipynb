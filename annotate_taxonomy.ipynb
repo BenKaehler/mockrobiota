{
 "cells": [
  {
   "cell_type": "code",
   "execution_count": 84,
   "metadata": {
    "collapsed": true
   },
   "outputs": [],
   "source": [
    "from os.path import join, exists\n",
    "from os import makedirs"
   ]
  },
  {
   "cell_type": "code",
   "execution_count": 22,
   "metadata": {
    "collapsed": true
   },
   "outputs": [],
   "source": [
    "# source taxonomy to match against reference\n",
    "source_fp = '/Users/nbokulich/Desktop/projects/mockrobiota/data/mock-12/source/taxonomy.tsv'\n",
    "\n",
    "# reference taxonomy to use for annotation\n",
    "ref_taxa_fp = '/Users/nbokulich/Desktop/ref_dbs/gg_13_8_otus/taxonomy/99_otu_taxonomy.txt'\n",
    "\n",
    "# destination directory path\n",
    "destination_dir = '/Users/nbokulich/Desktop/projects/mockrobiota/data/mock-12/greengenes/13_8/99_otus/'"
   ]
  },
  {
   "cell_type": "code",
   "execution_count": 211,
   "metadata": {
    "collapsed": true
   },
   "outputs": [],
   "source": [
    "# generate dict of {name: (genus, species, abundances)}\n",
    "with open(source_fp, \"r\") as source:\n",
    "    sample_list = source.readline().strip().split('\\t')[1:]\n",
    "    taxa = {}\n",
    "    for l in source:\n",
    "        # convert abundances to float\n",
    "        abundances = list(map(float, l.strip().split('\\t')[1:]))\n",
    "        name = l.strip().split('\\t')[0]\n",
    "        taxon = name.split(';')[-1].split(' ')[0:2]\n",
    "        taxa[name] = (taxon, abundances)"
   ]
  },
  {
   "cell_type": "code",
   "execution_count": 233,
   "metadata": {
    "collapsed": false
   },
   "outputs": [
    {
     "data": {
      "text/plain": [
       "{'Bacteroides cellulosilyticus DSM 14838': (['Bacteroides',\n",
       "   'cellulosilyticus'],\n",
       "  [0.037037037]),\n",
       " 'Bacteroides eggerthii BEI HM-210': (['Bacteroides', 'eggerthii'],\n",
       "  [0.037037037]),\n",
       " 'Bacteroides fragilis ATCC 23745': (['Bacteroides', 'fragilis'],\n",
       "  [0.037037037]),\n",
       " 'Bacteroides massiliensis JCM 12982': (['Bacteroides', 'massiliensis'],\n",
       "  [0.037037037]),\n",
       " 'Bacteroides ovatus DSM 1896': (['Bacteroides', 'ovatus'], [0.037037037]),\n",
       " 'Bacteroides thetaiotaomicron DSM 2079': (['Bacteroides', 'thetaiotaomicron'],\n",
       "  [0.037037037]),\n",
       " 'Bacteroides uniformis DSM 6597': (['Bacteroides', 'uniformis'],\n",
       "  [0.037037037]),\n",
       " 'Bacteroides vulgatus DSM 1447': (['Bacteroides', 'vulgatus'], [0.037037037]),\n",
       " 'Barnesiella intestinihominis DSM 21032': (['Barnesiella',\n",
       "   'intestinihominis'],\n",
       "  [0.037037037]),\n",
       " 'Clostridium celatum JCM 1394': (['Clostridium', 'celatum'], [0.037037037]),\n",
       " 'Clostridium cocleatum DSM 1551': (['Clostridium', 'cocleatum'],\n",
       "  [0.037037037]),\n",
       " 'Clostridium methylpentosum DSM 5476': (['Clostridium', 'methylpentosum'],\n",
       "  [0.037037037]),\n",
       " 'Clostridium phytofermentans ATCC 700394': (['Clostridium',\n",
       "   'phytofermentans'],\n",
       "  [0.037037037]),\n",
       " 'Clostridium xylanovorans DSM 12503': (['Clostridium', 'xylanovorans'],\n",
       "  [0.037037037]),\n",
       " 'Coprococcus comes ATCC 27758': (['Coprococcus', 'comes'], [0.037037037]),\n",
       " 'Eubacterium rectale DSM 17629': (['Eubacterium', 'rectale'], [0.037037037]),\n",
       " 'Howardella ureilytica DSM 15118': (['Howardella', 'ureilytica'],\n",
       "  [0.037037037]),\n",
       " 'Parabacteroides distasonis JCM 13400': (['Parabacteroides', 'distasonis'],\n",
       "  [0.0370370371]),\n",
       " 'Parabacteroides distasonis JCM 13401': (['Parabacteroides', 'distasonis'],\n",
       "  [0.0370370371]),\n",
       " 'Parabacteroides merdae DSM 19495': (['Parabacteroides', 'merdae'],\n",
       "  [0.0370370371]),\n",
       " 'Parabacteroides sp. D13 BEI HM-77': (['Parabacteroides', 'sp.'],\n",
       "  [0.0370370371]),\n",
       " 'Paraprevotella clara DSM 19731': (['Paraprevotella', 'clara'],\n",
       "  [0.0370370371]),\n",
       " 'Prevotella buccalis ATCC 35310': (['Prevotella', 'buccalis'],\n",
       "  [0.0370370371]),\n",
       " 'Prevotella copri DSM 18205': (['Prevotella', 'copri'], [0.0370370371]),\n",
       " 'Roseburia intestinalis DSM 14610': (['Roseburia', 'intestinalis'],\n",
       "  [0.0370370371]),\n",
       " 'Roseburia inulinivorans DSM 16841': (['Roseburia', 'inulinivorans'],\n",
       "  [0.0370370371]),\n",
       " 'Ruminococcus gnavus ATCC 29149': (['Ruminococcus', 'gnavus'],\n",
       "  [0.0370370371])}"
      ]
     },
     "execution_count": 233,
     "metadata": {},
     "output_type": "execute_result"
    }
   ],
   "source": [
    "taxa"
   ]
  },
  {
   "cell_type": "code",
   "execution_count": 180,
   "metadata": {
    "collapsed": false
   },
   "outputs": [],
   "source": [
    "# parse ref taxonomy\n",
    "with open(ref_taxa_fp, \"r\") as ref:\n",
    "    ref_taxa = {l.strip().split('\\t')[1]: (l.strip().split('\\t')[1].split(';')[-2],\n",
    "                                           l.strip().split('\\t')[1].split(';')[-1],\n",
    "                                           l.strip().split('\\t')[0]\n",
    "                                          ) for l in ref}\n"
   ]
  },
  {
   "cell_type": "code",
   "execution_count": 242,
   "metadata": {
    "collapsed": true
   },
   "outputs": [],
   "source": [
    "def add_lists(l1, l2):\n",
    "    newlist = [sum(tup) for tup in zip(l1, l2)]\n",
    "    return newlist\n"
   ]
  },
  {
   "cell_type": "code",
   "execution_count": 243,
   "metadata": {
    "collapsed": false
   },
   "outputs": [
    {
     "data": {
      "text/plain": [
       "[0.2, 0.4, 0.6]"
      ]
     },
     "execution_count": 243,
     "metadata": {},
     "output_type": "execute_result"
    }
   ],
   "source": [
    "a1 = [0.1, 0.2, 0.3]\n",
    "a2 = [0.1, 0.2, 0.3]\n",
    "a3 = add_lists(a1, a2)\n",
    "a3"
   ]
  },
  {
   "cell_type": "code",
   "execution_count": 244,
   "metadata": {
    "collapsed": false
   },
   "outputs": [
    {
     "name": "stdout",
     "output_type": "stream",
     "text": [
      "Howardella ureilytica DSM 15118 has no matches to /Users/nbokulich/Desktop/ref_dbs/gg_13_8_otus/taxonomy/99_otu_taxonomy.txt.\n",
      "Perform a manual search of your reference database to match the\n",
      "nearest basal lineage. A good place to start is NCBI taxonomy\n",
      "(https://www.ncbi.nlm.nih.gov/taxonomy) to find the current\n",
      "accepted taxonomy, then use grep or similar to search for the\n",
      "nearest lineage in your reference. Assign the nearest basal lineage.\n",
      "For example, if Lactobacillus casei has no species or genus-level\n",
      "matches in the database, but Lactobacillales is present, assign\n",
      "the taxonomy string up to Lactobacillales.\n",
      "\n",
      "Enter the correct taxonomy for the basal lineage here:\n"
     ]
    }
   ],
   "source": [
    "# find matching taxonomies\n",
    "species_match = 0\n",
    "genus_match = 0\n",
    "no_match = 0\n",
    "count = len(taxa)\n",
    "\n",
    "duplicates = []\n",
    "seq_ids = dict()\n",
    "new_taxa = dict()\n",
    "\n",
    "for name, t in taxa.items():\n",
    "    match = 'None'\n",
    "    \n",
    "    # search for match at genus, then species level\n",
    "    for full, partial in ref_taxa.items():\n",
    "        if t[0][0] in partial[0]:\n",
    "            if t[0][1] in partial[1]:\n",
    "                match = 'species'\n",
    "                seq_ids[full] = partial[2]\n",
    "                break\n",
    "            else:\n",
    "                match = 'genus'\n",
    "                genus = ';'.join(full.split(';')[:-1])\n",
    "                \n",
    "    # now add match to new_taxa\n",
    "    if match == 'species':\n",
    "        species_match += 1\n",
    "        if full not in new_taxa.keys():\n",
    "            new_taxa[full] = (name, t[1])\n",
    "        else:\n",
    "            # if species is replicated, collapse abundances\n",
    "            \n",
    "            new_taxa[full] = (name, add_lists(new_taxa[full][1], t[1]))\n",
    "            #new_taxa[full] = (name, [sum(tup) for tup in zip(new_taxa[full][1], t[1])])\n",
    "            duplicates.append(full)\n",
    "\n",
    "    elif match == 'genus':\n",
    "        genus_match += 1\n",
    "        if genus not in new_taxa.keys():\n",
    "            new_taxa[genus] = (name, t[1])\n",
    "        else:\n",
    "            # if genus is replicated, collapse abundances\n",
    "            new_taxa[genus] = (name, add_lists(new_taxa[genus][1], t[1]))\n",
    "            #new_taxa[genus] = (name, [sum(tup) for tup in zip(new_taxa[genus][1], t[1])])\n",
    "            duplicates.append(genus)\n",
    "\n",
    "    # if failed, user needs to manually search and input new string\n",
    "    else:\n",
    "        no_match += 1\n",
    "        print('{0} has no matches to {1}.'.format(name, ref_taxa_fp))\n",
    "        print('Perform a manual search of your reference database to match the')\n",
    "        print('nearest basal lineage. A good place to start is NCBI taxonomy')\n",
    "        print('(https://www.ncbi.nlm.nih.gov/taxonomy) to find the current')\n",
    "        print('accepted taxonomy, then use grep or similar to search for the')\n",
    "        print('nearest lineage in your reference. Assign the nearest basal lineage.')\n",
    "        print('For example, if Lactobacillus casei has no species or genus-level')\n",
    "        print('matches in the database, but Lactobacillales is present, assign')\n",
    "        print('the taxonomy string up to Lactobacillales.')\n",
    "        print('\\nEnter the correct taxonomy for the basal lineage here:')\n",
    "        lineage = 'fake'#input('> ')\n",
    "        #failures.append(name)\n",
    "        #new_taxa[name] = (name, t[1])\n",
    "        if lineage not in new_taxa.keys():\n",
    "            new_taxa[lineage] = (name, t[1])\n",
    "        else:\n",
    "            # if genus is replicated, collapse abundances\n",
    "            new_taxa[lineage] = (name, add_lists(new_taxa[lineage][1], t[1]))\n",
    "            #new_taxa[lineage] = (name, [sum(tup) for tup in zip(new_taxa[lineage][1], t[1])])\n",
    "            duplicates.append(lineage)\n"
   ]
  },
  {
   "cell_type": "code",
   "execution_count": 245,
   "metadata": {
    "collapsed": false
   },
   "outputs": [
    {
     "data": {
      "text/plain": [
       "{'fake': ('Howardella ureilytica DSM 15118', [0.037037037]),\n",
       " 'k__Bacteria; p__Bacteroidetes; c__Bacteroidia; o__Bacteroidales; f__Bacteroidaceae; g__Bacteroides': ('Bacteroides cellulosilyticus DSM 14838',\n",
       "  [0.148148148]),\n",
       " 'k__Bacteria; p__Bacteroidetes; c__Bacteroidia; o__Bacteroidales; f__Bacteroidaceae; g__Bacteroides; s__eggerthii': ('Bacteroides eggerthii BEI HM-210',\n",
       "  [0.037037037]),\n",
       " 'k__Bacteria; p__Bacteroidetes; c__Bacteroidia; o__Bacteroidales; f__Bacteroidaceae; g__Bacteroides; s__fragilis': ('Bacteroides fragilis ATCC 23745',\n",
       "  [0.037037037]),\n",
       " 'k__Bacteria; p__Bacteroidetes; c__Bacteroidia; o__Bacteroidales; f__Bacteroidaceae; g__Bacteroides; s__ovatus': ('Bacteroides ovatus DSM 1896',\n",
       "  [0.037037037]),\n",
       " 'k__Bacteria; p__Bacteroidetes; c__Bacteroidia; o__Bacteroidales; f__Bacteroidaceae; g__Bacteroides; s__uniformis': ('Bacteroides uniformis DSM 6597',\n",
       "  [0.037037037]),\n",
       " 'k__Bacteria; p__Bacteroidetes; c__Bacteroidia; o__Bacteroidales; f__Porphyromonadaceae; g__Parabacteroides': ('Parabacteroides merdae DSM 19495',\n",
       "  [0.0740740742]),\n",
       " 'k__Bacteria; p__Bacteroidetes; c__Bacteroidia; o__Bacteroidales; f__Porphyromonadaceae; g__Parabacteroides; s__distasonis': ('Parabacteroides distasonis JCM 13401',\n",
       "  [0.0740740742]),\n",
       " 'k__Bacteria; p__Bacteroidetes; c__Bacteroidia; o__Bacteroidales; f__Prevotellaceae; g__Prevotella': ('Prevotella buccalis ATCC 35310',\n",
       "  [0.0370370371]),\n",
       " 'k__Bacteria; p__Bacteroidetes; c__Bacteroidia; o__Bacteroidales; f__Prevotellaceae; g__Prevotella; s__copri': ('Prevotella copri DSM 18205',\n",
       "  [0.0370370371]),\n",
       " 'k__Bacteria; p__Bacteroidetes; c__Bacteroidia; o__Bacteroidales; f__[Barnesiellaceae]; g__Barnesiella; s__intestinihominis': ('Barnesiella intestinihominis DSM 21032',\n",
       "  [0.037037037]),\n",
       " 'k__Bacteria; p__Bacteroidetes; c__Bacteroidia; o__Bacteroidales; f__[Paraprevotellaceae]; g__Paraprevotella': ('Paraprevotella clara DSM 19731',\n",
       "  [0.0370370371]),\n",
       " 'k__Bacteria; p__Firmicutes; c__Clostridia; o__Clostridiales; f__Clostridiaceae; g__Clostridium; s__celatum': ('Clostridium celatum JCM 1394',\n",
       "  [0.037037037]),\n",
       " 'k__Bacteria; p__Firmicutes; c__Clostridia; o__Clostridiales; f__Lachnospiraceae; g__Coprococcus': ('Coprococcus comes ATCC 27758',\n",
       "  [0.037037037]),\n",
       " 'k__Bacteria; p__Firmicutes; c__Clostridia; o__Clostridiales; f__Lachnospiraceae; g__Roseburia': ('Roseburia intestinalis DSM 14610',\n",
       "  [0.0370370371]),\n",
       " 'k__Bacteria; p__Firmicutes; c__Clostridia; o__Clostridiales; f__Lachnospiraceae; g__Roseburia; s__inulinivorans': ('Roseburia inulinivorans DSM 16841',\n",
       "  [0.0370370371]),\n",
       " 'k__Bacteria; p__Firmicutes; c__Clostridia; o__Clostridiales; f__Lachnospiraceae; g__[Ruminococcus]; s__gnavus': ('Ruminococcus gnavus ATCC 29149',\n",
       "  [0.0370370371]),\n",
       " 'k__Bacteria; p__Firmicutes; c__Clostridia; o__Clostridiales; f__Peptostreptococcaceae; g__[Clostridium]': ('Clostridium xylanovorans DSM 12503',\n",
       "  [0.074074074]),\n",
       " 'k__Bacteria; p__Firmicutes; c__Clostridia; o__Clostridiales; f__Ruminococcaceae; g__Clostridium; s__methylpentosum': ('Clostridium methylpentosum DSM 5476',\n",
       "  [0.037037037]),\n",
       " 'k__Bacteria; p__Firmicutes; c__Erysipelotrichi; o__Erysipelotrichales; f__Erysipelotrichaceae; g__Clostridium; s__cocleatum': ('Clostridium cocleatum DSM 1551',\n",
       "  [0.037037037]),\n",
       " 'k__Bacteria; p__Firmicutes; c__Erysipelotrichi; o__Erysipelotrichales; f__Erysipelotrichaceae; g__[Eubacterium]': ('Eubacterium rectale DSM 17629',\n",
       "  [0.037037037])}"
      ]
     },
     "execution_count": 245,
     "metadata": {},
     "output_type": "execute_result"
    }
   ],
   "source": [
    "new_taxa"
   ]
  },
  {
   "cell_type": "code",
   "execution_count": 236,
   "metadata": {
    "collapsed": false
   },
   "outputs": [
    {
     "name": "stdout",
     "output_type": "stream",
     "text": [
      "13 species-level matches (48.1%)\n",
      "13 genus-level matches (48.1%)\n",
      "1 FAILURES (3.7%)\n",
      "\n",
      "6 duplicates:\n",
      "k__Bacteria; p__Bacteroidetes; c__Bacteroidia; o__Bacteroidales; f__Bacteroidaceae; g__Bacteroides\n",
      "Parabacteroides distasonis JCM 13401\n",
      "k__Bacteria; p__Bacteroidetes; c__Bacteroidia; o__Bacteroidales; f__Bacteroidaceae; g__Bacteroides\n",
      "k__Bacteria; p__Bacteroidetes; c__Bacteroidia; o__Bacteroidales; f__Bacteroidaceae; g__Bacteroides\n",
      "k__Bacteria; p__Firmicutes; c__Clostridia; o__Clostridiales; f__Peptostreptococcaceae; g__[Clostridium]\n",
      "k__Bacteria; p__Bacteroidetes; c__Bacteroidia; o__Bacteroidales; f__Porphyromonadaceae; g__Parabacteroides\n"
     ]
    }
   ],
   "source": [
    "print('{0} species-level matches ({1:.1f}%)'.format(species_match, species_match/count*100))\n",
    "print('{0} genus-level matches ({1:.1f}%)'.format(genus_match, genus_match/count*100))\n",
    "if no_match > 0:\n",
    "    print('{0} FAILURES ({1:.1f}%)'.format(no_match, no_match/count*100))\n",
    "    \n",
    "if len(duplicates) > 0:\n",
    "    print('\\n{0} duplicates:'.format(len(duplicates)))\n",
    "    for dup in duplicates:\n",
    "        print(dup)\n",
    "\n"
   ]
  },
  {
   "cell_type": "markdown",
   "metadata": {},
   "source": [
    "## Write to file"
   ]
  },
  {
   "cell_type": "code",
   "execution_count": 208,
   "metadata": {
    "collapsed": false
   },
   "outputs": [],
   "source": [
    "if not exists(destination_dir):\n",
    "    makedirs(destination_dir)\n",
    "    \n",
    "with open(join(destination_dir, 'expected-taxonomy.tsv'), \"w\") as dest:\n",
    "    dest.write('Taxonomy\\t{0}\\n'.format('\\t'.join(sample_list)))\n",
    "    for name, t in new_taxa.items():\n",
    "        abundances = [\"{:.10f}\".format(n) for n in t[1]]\n",
    "        dest.write('{0}\\t{1}\\n'.format(name, '\\t'.join(abundances)))\n",
    "\n",
    "with open(join(destination_dir, 'database-identifiers.tsv'), \"w\") as dest:\n",
    "    for t, seq_id in seq_ids.items():\n",
    "        dest.write('{0}\\t{1}\\n'.format(t, seq_id))\n"
   ]
  },
  {
   "cell_type": "code",
   "execution_count": null,
   "metadata": {
    "collapsed": true
   },
   "outputs": [],
   "source": []
  }
 ],
 "metadata": {
  "anaconda-cloud": {},
  "kernelspec": {
   "display_name": "Python [conda env:python-3]",
   "language": "python",
   "name": "conda-env-python-3-py"
  },
  "language_info": {
   "codemirror_mode": {
    "name": "ipython",
    "version": 3
   },
   "file_extension": ".py",
   "mimetype": "text/x-python",
   "name": "python",
   "nbconvert_exporter": "python",
   "pygments_lexer": "ipython3",
   "version": "3.5.2"
  }
 },
 "nbformat": 4,
 "nbformat_minor": 1
}
